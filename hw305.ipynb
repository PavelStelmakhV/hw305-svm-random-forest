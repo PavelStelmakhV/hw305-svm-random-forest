{
 "cells": [
  {
   "cell_type": "code",
   "execution_count": 1,
   "id": "1118d92a-6eee-4f19-a1a3-ba1ce62e698f",
   "metadata": {},
   "outputs": [],
   "source": [
    "import os\n",
    "# import math\n",
    "import numpy as np #+\n",
    "import pandas as pd\n",
    "import matplotlib.pyplot as plt\n",
    "import seaborn as sns\n",
    "\n",
    "# pd.options.mode.chained_assignment = None"
   ]
  },
  {
   "cell_type": "code",
   "execution_count": 2,
   "id": "b3fd2540-db10-4d3a-8ae6-25afbc951f08",
   "metadata": {},
   "outputs": [
    {
     "data": {
      "text/plain": [
       "'C:\\\\Users\\\\stelm\\\\OneDrive\\\\Documents\\\\Work\\\\home-work\\\\hw305-svm-random-forest'"
      ]
     },
     "execution_count": 2,
     "metadata": {},
     "output_type": "execute_result"
    }
   ],
   "source": [
    "os.getcwd()"
   ]
  },
  {
   "cell_type": "code",
   "execution_count": 3,
   "id": "70265d97-7031-44a1-b9a9-ace47a964c12",
   "metadata": {},
   "outputs": [
    {
     "data": {
      "text/plain": [
       "['running', 'stairs', 'walking']"
      ]
     },
     "execution_count": 3,
     "metadata": {},
     "output_type": "execute_result"
    }
   ],
   "source": [
    "data_folder = \"data\"\n",
    "PATH = os.path.join(os.getcwd(), data_folder)\n",
    "folders = os.listdir(PATH)\n",
    "train_folder = folders[0]\n",
    "test_folders = folders[1:]\n",
    "test_folders"
   ]
  },
  {
   "cell_type": "code",
   "execution_count": 4,
   "id": "c3a61c83-5235-4400-afba-d102905887be",
   "metadata": {},
   "outputs": [
    {
     "data": {
      "text/plain": [
       "1039"
      ]
     },
     "execution_count": 4,
     "metadata": {},
     "output_type": "execute_result"
    }
   ],
   "source": [
    "train_files = os.listdir(os.path.join(PATH, train_folder))\n",
    "len(train_files)"
   ]
  },
  {
   "cell_type": "code",
   "execution_count": 5,
   "id": "b1584c2f-b5ba-44bc-bd5a-38d771fb5524",
   "metadata": {},
   "outputs": [
    {
     "name": "stdout",
     "output_type": "stream",
     "text": [
      "C:\\Users\\stelm\\OneDrive\\Documents\\Work\\home-work\\hw305-svm-random-forest\\data\\idle\\idle-1.csv\n"
     ]
    }
   ],
   "source": [
    "print(os.path.join(PATH, train_folder, train_files[0]))"
   ]
  },
  {
   "cell_type": "code",
   "execution_count": 6,
   "id": "e5e4f8c7-2431-411f-b65e-6a814238a5e4",
   "metadata": {},
   "outputs": [],
   "source": [
    "df_from_file = pd.read_csv(os.path.join(PATH, train_folder, train_files[0]))"
   ]
  },
  {
   "cell_type": "code",
   "execution_count": 7,
   "id": "45289fcf-10f4-48e0-9d93-8083217ea244",
   "metadata": {},
   "outputs": [],
   "source": [
    "df2 = pd.read_csv(os.path.join(PATH, train_folder, train_files[1]))"
   ]
  },
  {
   "cell_type": "code",
   "execution_count": 26,
   "id": "f2619009-4809-4293-96db-8dac6474e32e",
   "metadata": {},
   "outputs": [],
   "source": [
    "def transform_df(df):\n",
    "    array_df = np.hstack(\n",
    "        [df['accelerometer_X'].to_numpy(), \n",
    "         df['accelerometer_Y'].to_numpy(), \n",
    "         df['accelerometer_Z'].to_numpy()])\n",
    "    )\n",
    "    return pd.DataFrame(array_df.reshape(1, -1))"
   ]
  },
  {
   "cell_type": "code",
   "execution_count": 31,
   "id": "3cf083a8-d4f8-45b4-abb1-fe246674979b",
   "metadata": {
    "collapsed": true,
    "jupyter": {
     "outputs_hidden": true
    }
   },
   "outputs": [
    {
     "name": "stdout",
     "output_type": "stream",
     "text": [
      "[[ 1.000776  0.718261 -0.909797  5.09965   1.762132 -0.086191 -0.062249\n",
      "  -0.057461 -0.124498 -0.138864 -0.095768 -0.114922 -0.114922 -0.09098\n",
      "  -0.095768 -0.105345 -0.148441 -0.134075 -0.100556 -0.081403 -0.124498\n",
      "  -0.320823  0.148441  0.407014 -0.311246 -0.038307 -0.114922 -0.124498\n",
      "  -0.167594 -0.11971   4.616021  4.209007 -0.282516  0.148441 -0.162806\n",
      "  -0.148441 -0.191536 -0.114922 -0.162806 -0.124498 -0.129287 -0.134075\n",
      "  -0.134075 -0.143652 -0.129287 -0.114922 -0.148441 -0.105345 -0.124498\n",
      "  -0.110133 -0.153229 -0.191536 -0.234632  0.023942 -0.167594 -0.244209\n",
      "  -0.158017 -0.114922 -0.124498 -0.124498  8.576031  8.446744  9.203311\n",
      "   8.418014  9.251195  9.787497  9.773131  9.763555  9.782708  9.768343\n",
      "   9.773131  9.782708  9.744401  9.773131  9.782708  9.763555  9.787497\n",
      "   9.773131  9.763555  9.744401  9.773131  9.792285  9.768343  9.80665\n",
      "   9.768343  9.782708  9.801862  9.758766  9.667787  9.792285]]\n"
     ]
    }
   ],
   "source": [
    "trans_df = transform_df(df1)"
   ]
  },
  {
   "cell_type": "code",
   "execution_count": 30,
   "id": "f0e160af-0bd8-40ae-a3a1-0b0214e18224",
   "metadata": {},
   "outputs": [
    {
     "data": {
      "text/html": [
       "<div>\n",
       "<style scoped>\n",
       "    .dataframe tbody tr th:only-of-type {\n",
       "        vertical-align: middle;\n",
       "    }\n",
       "\n",
       "    .dataframe tbody tr th {\n",
       "        vertical-align: top;\n",
       "    }\n",
       "\n",
       "    .dataframe thead th {\n",
       "        text-align: right;\n",
       "    }\n",
       "</style>\n",
       "<table border=\"1\" class=\"dataframe\">\n",
       "  <thead>\n",
       "    <tr style=\"text-align: right;\">\n",
       "      <th></th>\n",
       "      <th>0</th>\n",
       "      <th>1</th>\n",
       "      <th>2</th>\n",
       "      <th>3</th>\n",
       "      <th>4</th>\n",
       "      <th>5</th>\n",
       "      <th>6</th>\n",
       "      <th>7</th>\n",
       "      <th>8</th>\n",
       "      <th>9</th>\n",
       "      <th>...</th>\n",
       "      <th>80</th>\n",
       "      <th>81</th>\n",
       "      <th>82</th>\n",
       "      <th>83</th>\n",
       "      <th>84</th>\n",
       "      <th>85</th>\n",
       "      <th>86</th>\n",
       "      <th>87</th>\n",
       "      <th>88</th>\n",
       "      <th>89</th>\n",
       "    </tr>\n",
       "  </thead>\n",
       "  <tbody>\n",
       "    <tr>\n",
       "      <th>0</th>\n",
       "      <td>1.000776</td>\n",
       "      <td>0.718261</td>\n",
       "      <td>-0.909797</td>\n",
       "      <td>5.09965</td>\n",
       "      <td>1.762132</td>\n",
       "      <td>-0.086191</td>\n",
       "      <td>-0.062249</td>\n",
       "      <td>-0.057461</td>\n",
       "      <td>-0.124498</td>\n",
       "      <td>-0.138864</td>\n",
       "      <td>...</td>\n",
       "      <td>9.773131</td>\n",
       "      <td>9.792285</td>\n",
       "      <td>9.768343</td>\n",
       "      <td>9.80665</td>\n",
       "      <td>9.768343</td>\n",
       "      <td>9.782708</td>\n",
       "      <td>9.801862</td>\n",
       "      <td>9.758766</td>\n",
       "      <td>9.667787</td>\n",
       "      <td>9.792285</td>\n",
       "    </tr>\n",
       "    <tr>\n",
       "      <th>1</th>\n",
       "      <td>1.000776</td>\n",
       "      <td>0.718261</td>\n",
       "      <td>-0.909797</td>\n",
       "      <td>5.09965</td>\n",
       "      <td>1.762132</td>\n",
       "      <td>-0.086191</td>\n",
       "      <td>-0.062249</td>\n",
       "      <td>-0.057461</td>\n",
       "      <td>-0.124498</td>\n",
       "      <td>-0.138864</td>\n",
       "      <td>...</td>\n",
       "      <td>9.773131</td>\n",
       "      <td>9.792285</td>\n",
       "      <td>9.768343</td>\n",
       "      <td>9.80665</td>\n",
       "      <td>9.768343</td>\n",
       "      <td>9.782708</td>\n",
       "      <td>9.801862</td>\n",
       "      <td>9.758766</td>\n",
       "      <td>9.667787</td>\n",
       "      <td>9.792285</td>\n",
       "    </tr>\n",
       "  </tbody>\n",
       "</table>\n",
       "<p>2 rows × 90 columns</p>\n",
       "</div>"
      ],
      "text/plain": [
       "         0         1         2        3         4         5         6   \\\n",
       "0  1.000776  0.718261 -0.909797  5.09965  1.762132 -0.086191 -0.062249   \n",
       "1  1.000776  0.718261 -0.909797  5.09965  1.762132 -0.086191 -0.062249   \n",
       "\n",
       "         7         8         9   ...        80        81        82       83  \\\n",
       "0 -0.057461 -0.124498 -0.138864  ...  9.773131  9.792285  9.768343  9.80665   \n",
       "1 -0.057461 -0.124498 -0.138864  ...  9.773131  9.792285  9.768343  9.80665   \n",
       "\n",
       "         84        85        86        87        88        89  \n",
       "0  9.768343  9.782708  9.801862  9.758766  9.667787  9.792285  \n",
       "1  9.768343  9.782708  9.801862  9.758766  9.667787  9.792285  \n",
       "\n",
       "[2 rows x 90 columns]"
      ]
     },
     "execution_count": 30,
     "metadata": {},
     "output_type": "execute_result"
    }
   ],
   "source": [
    "df = pd.concat([trans_df, trans_df], ignore_index=True)\n",
    "df"
   ]
  },
  {
   "cell_type": "code",
   "execution_count": null,
   "id": "1e137a1b-8718-4433-ab21-ebfab8d2fde9",
   "metadata": {},
   "outputs": [],
   "source": [
    "sub transform(df)\n",
    "    df_new = df\n",
    "    return df_new"
   ]
  },
  {
   "cell_type": "code",
   "execution_count": null,
   "id": "24daff4e-f071-4d3a-a65b-917279e18d6b",
   "metadata": {},
   "outputs": [],
   "source": [
    "# train-test-split with sklearn\n",
    "\n",
    "from sklearn.model_selection import train_test_split\n",
    "\n",
    "df1, df2 = train_test_split(df, shuffle=False, test_size=len(test_data))\n",
    "df1.tail()"
   ]
  },
  {
   "cell_type": "code",
   "execution_count": null,
   "id": "f1599edc-8c9c-420a-abd6-5d810336aa7e",
   "metadata": {},
   "outputs": [],
   "source": [
    "def linear_regression(X, y):\n",
    "    \"\"\"\n",
    "    Linear regression function\n",
    "    \"\"\"\n",
    "    X_b = "
   ]
  }
 ],
 "metadata": {
  "kernelspec": {
   "display_name": "Python 3 (ipykernel)",
   "language": "python",
   "name": "python3"
  },
  "language_info": {
   "codemirror_mode": {
    "name": "ipython",
    "version": 3
   },
   "file_extension": ".py",
   "mimetype": "text/x-python",
   "name": "python",
   "nbconvert_exporter": "python",
   "pygments_lexer": "ipython3",
   "version": "3.11.9"
  }
 },
 "nbformat": 4,
 "nbformat_minor": 5
}
