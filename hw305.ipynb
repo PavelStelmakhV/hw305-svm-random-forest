{
 "cells": [
  {
   "cell_type": "code",
   "execution_count": 1,
   "id": "1118d92a-6eee-4f19-a1a3-ba1ce62e698f",
   "metadata": {},
   "outputs": [],
   "source": [
    "import os\n",
    "# import math\n",
    "import numpy as np #+\n",
    "import pandas as pd\n",
    "import matplotlib.pyplot as plt\n",
    "import seaborn as sns\n",
    "\n",
    "# pd.options.mode.chained_assignment = None"
   ]
  },
  {
   "cell_type": "code",
   "execution_count": 2,
   "id": "bc026c61-fb49-4b77-977c-39d8bec6d457",
   "metadata": {},
   "outputs": [],
   "source": [
    "PATH = \"./data\""
   ]
  },
  {
   "cell_type": "code",
   "execution_count": null,
   "id": "24daff4e-f071-4d3a-a65b-917279e18d6b",
   "metadata": {},
   "outputs": [],
   "source": [
    "# train-test-split with sklearn\n",
    "\n",
    "from sklearn.model_selection import train_test_split\n",
    "\n",
    "df1, df2 = train_test_split(df, shuffle=False, test_size=len(test_data))\n",
    "df1.tail()"
   ]
  },
  {
   "cell_type": "code",
   "execution_count": null,
   "id": "f1599edc-8c9c-420a-abd6-5d810336aa7e",
   "metadata": {},
   "outputs": [],
   "source": [
    "def linear_regression(X, y):\n",
    "    \"\"\"\n",
    "    Linear regression function\n",
    "    \"\"\"\n",
    "    X_b = "
   ]
  }
 ],
 "metadata": {
  "kernelspec": {
   "display_name": "Python 3 (ipykernel)",
   "language": "python",
   "name": "python3"
  },
  "language_info": {
   "codemirror_mode": {
    "name": "ipython",
    "version": 3
   },
   "file_extension": ".py",
   "mimetype": "text/x-python",
   "name": "python",
   "nbconvert_exporter": "python",
   "pygments_lexer": "ipython3",
   "version": "3.11.9"
  }
 },
 "nbformat": 4,
 "nbformat_minor": 5
}
